{
 "cells": [
  {
   "cell_type": "code",
   "execution_count": 1,
   "id": "about-facility",
   "metadata": {},
   "outputs": [
    {
     "name": "stdout",
     "output_type": "stream",
     "text": [
      "Processing /home/jovyan\n",
      "  Installing build dependencies ... \u001b[?25ldone\n",
      "\u001b[?25h  Getting requirements to build wheel ... \u001b[?25ldone\n",
      "\u001b[?25h    Preparing wheel metadata ... \u001b[?25ldone\n",
      "\u001b[?25hCollecting pandas\n",
      "  Downloading pandas-1.2.5-cp37-cp37m-manylinux_2_5_x86_64.manylinux1_x86_64.whl (9.9 MB)\n",
      "\u001b[K     |████████████████████████████████| 9.9 MB 4.5 MB/s eta 0:00:01\n",
      "\u001b[?25hCollecting numpy>=1.16.5\n",
      "  Downloading numpy-1.21.0-cp37-cp37m-manylinux_2_12_x86_64.manylinux2010_x86_64.whl (15.7 MB)\n",
      "\u001b[K     |████████████████████████████████| 15.7 MB 65.2 MB/s eta 0:00:01\n",
      "\u001b[?25hRequirement already satisfied: pytz>=2017.3 in /srv/conda/envs/notebook/lib/python3.7/site-packages (from pandas->ie_utils==0.1.0) (2021.1)\n",
      "Requirement already satisfied: python-dateutil>=2.7.3 in /srv/conda/envs/notebook/lib/python3.7/site-packages (from pandas->ie_utils==0.1.0) (2.8.1)\n",
      "Requirement already satisfied: six>=1.5 in /srv/conda/envs/notebook/lib/python3.7/site-packages (from python-dateutil>=2.7.3->pandas->ie_utils==0.1.0) (1.15.0)\n",
      "Building wheels for collected packages: ie-utils\n",
      "  Building wheel for ie-utils (PEP 517) ... \u001b[?25ldone\n",
      "\u001b[?25h  Created wheel for ie-utils: filename=ie_utils-0.1.0-py2.py3-none-any.whl size=1987 sha256=3db946aaaf541855f71c52df9ee7385e8e123b9a0f1ccd142e44d367a7e65380\n",
      "  Stored in directory: /tmp/pip-ephem-wheel-cache-ofnh06fn/wheels/24/67/61/461d47532c7e3b6048f03e8f0e3c2ddb1976b17163d48f9fe9\n",
      "Successfully built ie-utils\n",
      "Installing collected packages: numpy, pandas, ie-utils\n",
      "Successfully installed ie-utils-0.1.0 numpy-1.21.0 pandas-1.2.5\n",
      "Note: you may need to restart the kernel to use updated packages.\n"
     ]
    }
   ],
   "source": [
    "%pip install . "
   ]
  },
  {
   "cell_type": "code",
   "execution_count": 2,
   "id": "coordinate-heath",
   "metadata": {},
   "outputs": [],
   "source": [
    "from ie_utils import tokenize"
   ]
  },
  {
   "cell_type": "code",
   "execution_count": 3,
   "id": "respective-girlfriend",
   "metadata": {},
   "outputs": [],
   "source": [
    "import ipywidgets as ipyw"
   ]
  },
  {
   "cell_type": "code",
   "execution_count": 4,
   "id": "subjective-communist",
   "metadata": {},
   "outputs": [
    {
     "data": {
      "application/vnd.jupyter.widget-view+json": {
       "model_id": "75cdefa3769841b298a58dea364b25b2",
       "version_major": 2,
       "version_minor": 0
      },
      "text/plain": [
       "interactive(children=(Text(value='', description='sentence'), Output()), _dom_classes=('widget-interact',))"
      ]
     },
     "metadata": {},
     "output_type": "display_data"
    }
   ],
   "source": [
    "@ipyw.interact\n",
    "def do_tokenize(sentence=\"\"):\n",
    "    tokens=tokenize(sentence)\n",
    "    tokens_text= '\\n'.join(tokens)\n",
    "    print(f\"\"\"Number of tokens: {len(tokens)}\n",
    "    Tokens: {tokens_text}\"\"\")"
   ]
  },
  {
   "cell_type": "code",
   "execution_count": 5,
   "id": "surface-documentation",
   "metadata": {},
   "outputs": [],
   "source": [
    "tokenize_widget=ipyw.interactive(do_tokenize)"
   ]
  },
  {
   "cell_type": "code",
   "execution_count": 6,
   "id": "experimental-silver",
   "metadata": {},
   "outputs": [
    {
     "data": {
      "application/vnd.jupyter.widget-view+json": {
       "model_id": "7a1977e9f1364e679babb1256ab2668a",
       "version_major": 2,
       "version_minor": 0
      },
      "text/plain": [
       "interactive(children=(Text(value='', description='sentence'), Output()), _dom_classes=('widget-interact',))"
      ]
     },
     "metadata": {},
     "output_type": "display_data"
    }
   ],
   "source": [
    "tokenize_widget"
   ]
  },
  {
   "cell_type": "code",
   "execution_count": 10,
   "id": "empty-columbia",
   "metadata": {},
   "outputs": [
    {
     "data": {
      "application/vnd.jupyter.widget-view+json": {
       "model_id": "f8619238658447aca160f667ad39b526",
       "version_major": 2,
       "version_minor": 0
      },
      "text/plain": [
       "Tab(children=(interactive(children=(Text(value='', description='sentence'), Output(outputs=({'output_type': 's…"
      ]
     },
     "metadata": {},
     "output_type": "display_data"
    }
   ],
   "source": [
    "ui=ipyw.Tab(children=[tokenize_widget])\n",
    "ui.set_title(0,\"Tokenization interface\")\n",
    "ui"
   ]
  },
  {
   "cell_type": "code",
   "execution_count": null,
   "id": "subsequent-economy",
   "metadata": {},
   "outputs": [],
   "source": []
  }
 ],
 "metadata": {
  "kernelspec": {
   "display_name": "Python 3",
   "language": "python",
   "name": "python3"
  },
  "language_info": {
   "codemirror_mode": {
    "name": "ipython",
    "version": 3
   },
   "file_extension": ".py",
   "mimetype": "text/x-python",
   "name": "python",
   "nbconvert_exporter": "python",
   "pygments_lexer": "ipython3",
   "version": "3.7.10"
  }
 },
 "nbformat": 4,
 "nbformat_minor": 5
}
